{
  "cells": [
    {
      "cell_type": "markdown",
      "metadata": {
        "id": "AriH9CP6AKhs"
      },
      "source": [
        "# SHDocs `mlcroissant` helper\n",
        "\n",
        "This notebook assists users with using the [Croissant library](https://github.com/mlcommons/croissant/tree/main) to access the SHDocs metadata and load records.\n",
        "\n",
        "---\n",
        "\n",
        "## Prerequisites\n",
        "\n",
        "1. It is required to first install the dependencies below (either from source or PyPI) \n",
        "2. Next, you'll need to download the data and unzip them as described [here](https://github.com/JovinLeong/SHDocs/tree/main/data) to ensure the data matches the `croissant.json`'s expected directory structure. For now, Croissant has limitations with downloading and extracting `.zip` files so downloading is necessary."
      ]
    },
    {
      "cell_type": "code",
      "execution_count": 1,
      "metadata": {
        "id": "0qpWrlwV-x52"
      },
      "outputs": [],
      "source": [
        "# # Install mlcroissant from the source\n",
        "# !apt-get install -y python3-dev graphviz libgraphviz-dev pkg-config\n",
        "# !pip install \"git+https://github.com/${GITHUB_REPOSITORY:-mlcommons/croissant}.git@${GITHUB_HEAD_REF:-main}#subdirectory=python/mlcroissant&egg=mlcroissant[dev]\"\n",
        "\n",
        "# # Or install from PyPI\n",
        "# !pip install mlcroissant"
      ]
    },
    {
      "cell_type": "code",
      "execution_count": 2,
      "metadata": {},
      "outputs": [
        {
          "name": "stderr",
          "output_type": "stream",
          "text": [
            "WARNING:absl:Found the following 1 warning(s) during the validation:\n",
            "  -  [Metadata(shdocs)] Property \"https://schema.org/datePublished\" is recommended, but does not exist.\n"
          ]
        }
      ],
      "source": [
        "import mlcroissant as mlc\n",
        "\n",
        "# Load metadata\n",
        "dataset = mlc.Dataset(jsonld=\"./croissant.json\")"
      ]
    },
    {
      "cell_type": "markdown",
      "metadata": {},
      "source": [
        "## Get record sets\n"
      ]
    },
    {
      "cell_type": "code",
      "execution_count": 3,
      "metadata": {},
      "outputs": [
        {
          "name": "stdout",
          "output_type": "stream",
          "text": [
            "Record set: raw_training_images\n",
            "Record set: raw_testing_images\n",
            "Record set: processed_testing_images\n",
            "Record set: processed_testing_annotations\n"
          ]
        }
      ],
      "source": [
        "for record_set in dataset.metadata.record_sets:\n",
        "    print(f\"Record set: {record_set.name}\")"
      ]
    },
    {
      "cell_type": "code",
      "execution_count": 4,
      "metadata": {
        "id": "_JNyQFuAEiIs"
      },
      "outputs": [
        {
          "name": "stdout",
          "output_type": "stream",
          "text": [
            "0\n",
            "{'image_id': b'0000971160', 'image_filename': b'0000971160.png', 'image_content': <PIL.PngImagePlugin.PngImageFile image mode=L size=1224x1024 at 0x1653405C0>}\n",
            "1\n",
            "{'image_id': b'0000971160_a', 'image_filename': b'0000971160_a.png', 'image_content': <PIL.PngImagePlugin.PngImageFile image mode=L size=1224x1024 at 0x164AF6390>}\n",
            "2\n",
            "{'image_id': b'0000971160_b', 'image_filename': b'0000971160_b.png', 'image_content': <PIL.PngImagePlugin.PngImageFile image mode=L size=1224x1024 at 0x164ABFB00>}\n",
            "3\n",
            "{'image_id': b'0000971160_c', 'image_filename': b'0000971160_c.png', 'image_content': <PIL.PngImagePlugin.PngImageFile image mode=L size=1224x1024 at 0x164ABFD70>}\n",
            "4\n",
            "{'image_id': b'0000971160_d', 'image_filename': b'0000971160_d.png', 'image_content': <PIL.PngImagePlugin.PngImageFile image mode=L size=1224x1024 at 0x164ABFE00>}\n",
            "5\n",
            "{'image_id': b'0000971160_e', 'image_filename': b'0000971160_e.png', 'image_content': <PIL.PngImagePlugin.PngImageFile image mode=L size=1224x1024 at 0x164ABFE90>}\n",
            "6\n",
            "{'image_id': b'0000971160_f', 'image_filename': b'0000971160_f.png', 'image_content': <PIL.PngImagePlugin.PngImageFile image mode=L size=1224x1024 at 0x164ABFF20>}\n",
            "7\n",
            "{'image_id': b'0000971160_g', 'image_filename': b'0000971160_g.png', 'image_content': <PIL.PngImagePlugin.PngImageFile image mode=L size=1224x1024 at 0x164ABFFB0>}\n",
            "8\n",
            "{'image_id': b'0000971160_h', 'image_filename': b'0000971160_h.png', 'image_content': <PIL.PngImagePlugin.PngImageFile image mode=L size=1224x1024 at 0x164ABFFE0>}\n",
            "9\n",
            "{'image_id': b'0000971160_i', 'image_filename': b'0000971160_i.png', 'image_content': <PIL.PngImagePlugin.PngImageFile image mode=L size=1224x1024 at 0x164A34110>}\n",
            "10\n",
            "{'image_id': b'0000971160_j', 'image_filename': b'0000971160_j.png', 'image_content': <PIL.PngImagePlugin.PngImageFile image mode=L size=1224x1024 at 0x164A341A0>}\n",
            "11\n",
            "{'image_id': b'0000971160_k', 'image_filename': b'0000971160_k.png', 'image_content': <PIL.PngImagePlugin.PngImageFile image mode=L size=1224x1024 at 0x164A34230>}\n"
          ]
        }
      ],
      "source": [
        "# Sample records for raw_training_images\n",
        "records = dataset.records(record_set=dataset.metadata.record_sets[0].name)\n",
        "\n",
        "for i, record in enumerate(records):\n",
        "  print(i)\n",
        "  print(record)\n",
        "  if i > 10:\n",
        "    break"
      ]
    },
    {
      "cell_type": "code",
      "execution_count": null,
      "metadata": {},
      "outputs": [],
      "source": []
    }
  ],
  "metadata": {
    "colab": {
      "provenance": []
    },
    "kernelspec": {
      "display_name": "Python 3",
      "name": "python3"
    },
    "language_info": {
      "codemirror_mode": {
        "name": "ipython",
        "version": 3
      },
      "file_extension": ".py",
      "mimetype": "text/x-python",
      "name": "python",
      "nbconvert_exporter": "python",
      "pygments_lexer": "ipython3",
      "version": "3.12.2"
    }
  },
  "nbformat": 4,
  "nbformat_minor": 0
}
